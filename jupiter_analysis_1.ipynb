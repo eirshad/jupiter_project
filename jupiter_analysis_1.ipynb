{
 "cells": [
  {
   "cell_type": "markdown",
   "id": "6035f48b",
   "metadata": {},
   "source": [
    "# Jupiter's Moons Analysis (Task 1)"
   ]
  },
  {
   "cell_type": "markdown",
   "id": "5ad9f3d8",
   "metadata": {},
   "source": [
    "### Introduction:\n",
    "In this notebook, we will explore and analyse the dataset of Jupiter's moons. Jupiter, the largest planet in our Solar System, is known for having a large number of moons, each with unique characteristics and orbital properties. Our analysis aims to discover insights into these moons, by using the `Moons` class from the `jupiter.py` module, specifically developed for this purpose.\n",
    "\n",
    "The dataset includes various attributes of the moons such as their orbital period, distance from Jupiter, physical dimensions, and more. Through this analysis, we hope to understand more about these celestial bodies and their relationships with Jupiter."
   ]
  },
  {
   "cell_type": "markdown",
   "id": "eba92db4",
   "metadata": {},
   "source": [
    "### Loading the data\n",
    "To load the data, we import the \"Moons\" class from the \"jupiter.py\" model, and we create a database path to load the database here"
   ]
  },
  {
   "cell_type": "code",
   "execution_count": 8,
   "id": "3964662e",
   "metadata": {},
   "outputs": [],
   "source": [
    "from jupiter import Moons"
   ]
  },
  {
   "cell_type": "code",
   "execution_count": 2,
   "id": "7a5104ac",
   "metadata": {},
   "outputs": [],
   "source": [
    "db_path = \"data/jupiter.db\"\n",
    "moons_data = Moons(db_path)"
   ]
  },
  {
   "cell_type": "markdown",
   "id": "30b59844",
   "metadata": {},
   "source": [
    "### Dataset Structure\n",
    "Let's discuss the overall structure of our dataset. We'll look into the number of fields and records to get a sense of its size and scope.\n"
   ]
  },
  {
   "cell_type": "code",
   "execution_count": 3,
   "id": "1875e218",
   "metadata": {},
   "outputs": [
    {
     "name": "stdout",
     "output_type": "stream",
     "text": [
      "The dataset contains 56 records and 9 fields.\n"
     ]
    }
   ],
   "source": [
    "# Display the shape of the dataset\n",
    "num_records, num_fields = moons_data.data.shape\n",
    "print(f\"The dataset contains {num_records} records and {num_fields} fields.\")\n"
   ]
  },
  {
   "cell_type": "markdown",
   "id": "796cf86a",
   "metadata": {},
   "source": [
    "### Checking Data Completeness\n",
    "To ensure the reliability of our analysis, it's important to check for missing values in the dataset. The `check_completeness` method helps us identify if there are any gaps in our data.\n"
   ]
  },
  {
   "cell_type": "code",
   "execution_count": 4,
   "id": "a8a2ad84",
   "metadata": {},
   "outputs": [
    {
     "data": {
      "text/plain": [
       "moon                0\n",
       "period_days         0\n",
       "distance_km         0\n",
       "radius_km           0\n",
       "mag                 3\n",
       "mass_kg            50\n",
       "group               0\n",
       "ecc                 0\n",
       "inclination_deg     0\n",
       "dtype: int64"
      ]
     },
     "execution_count": 4,
     "metadata": {},
     "output_type": "execute_result"
    }
   ],
   "source": [
    "# Check for missing values in the dataset\n",
    "moons_data.completeness()\n"
   ]
  },
  {
   "cell_type": "markdown",
   "id": "fbb558d4",
   "metadata": {},
   "source": [
    "It seems that there are 3 empty data from the \"mag\" column, and 50 missing data from the mass_kg column, so we are notified of the missing values before we proceed to the next step\n"
   ]
  },
  {
   "cell_type": "markdown",
   "id": "c018dcef",
   "metadata": {},
   "source": [
    "### Summary Statistics\n",
    "Let's start by looking at the summary statistics of the dataset. This will give us a good overview of the numerical attributes of Jupiter's moons.\n"
   ]
  },
  {
   "cell_type": "code",
   "execution_count": 5,
   "id": "2af3995d",
   "metadata": {
    "scrolled": true
   },
   "outputs": [
    {
     "data": {
      "text/html": [
       "<div>\n",
       "<style scoped>\n",
       "    .dataframe tbody tr th:only-of-type {\n",
       "        vertical-align: middle;\n",
       "    }\n",
       "\n",
       "    .dataframe tbody tr th {\n",
       "        vertical-align: top;\n",
       "    }\n",
       "\n",
       "    .dataframe thead th {\n",
       "        text-align: right;\n",
       "    }\n",
       "</style>\n",
       "<table border=\"1\" class=\"dataframe\">\n",
       "  <thead>\n",
       "    <tr style=\"text-align: right;\">\n",
       "      <th></th>\n",
       "      <th>period_days</th>\n",
       "      <th>distance_km</th>\n",
       "      <th>radius_km</th>\n",
       "      <th>mag</th>\n",
       "      <th>mass_kg</th>\n",
       "      <th>ecc</th>\n",
       "      <th>inclination_deg</th>\n",
       "    </tr>\n",
       "  </thead>\n",
       "  <tbody>\n",
       "    <tr>\n",
       "      <th>count</th>\n",
       "      <td>56.000000</td>\n",
       "      <td>5.600000e+01</td>\n",
       "      <td>56.000000</td>\n",
       "      <td>53.000000</td>\n",
       "      <td>6.000000e+00</td>\n",
       "      <td>56.000000</td>\n",
       "      <td>56.000000</td>\n",
       "    </tr>\n",
       "    <tr>\n",
       "      <th>mean</th>\n",
       "      <td>525.998146</td>\n",
       "      <td>1.775655e+07</td>\n",
       "      <td>158.969643</td>\n",
       "      <td>20.418302</td>\n",
       "      <td>6.551798e+22</td>\n",
       "      <td>0.222922</td>\n",
       "      <td>113.571607</td>\n",
       "    </tr>\n",
       "    <tr>\n",
       "      <th>std</th>\n",
       "      <td>272.670243</td>\n",
       "      <td>8.253688e+06</td>\n",
       "      <td>557.730632</td>\n",
       "      <td>4.926587</td>\n",
       "      <td>6.010469e+22</td>\n",
       "      <td>0.126899</td>\n",
       "      <td>64.562822</td>\n",
       "    </tr>\n",
       "    <tr>\n",
       "      <th>min</th>\n",
       "      <td>0.290000</td>\n",
       "      <td>1.280000e+05</td>\n",
       "      <td>1.000000</td>\n",
       "      <td>4.610000</td>\n",
       "      <td>2.080000e+18</td>\n",
       "      <td>0.000200</td>\n",
       "      <td>0.030000</td>\n",
       "    </tr>\n",
       "    <tr>\n",
       "      <th>25%</th>\n",
       "      <td>258.750000</td>\n",
       "      <td>1.170252e+07</td>\n",
       "      <td>1.500000</td>\n",
       "      <td>20.800000</td>\n",
       "      <td>1.200276e+22</td>\n",
       "      <td>0.159201</td>\n",
       "      <td>30.582500</td>\n",
       "    </tr>\n",
       "    <tr>\n",
       "      <th>50%</th>\n",
       "      <td>632.500000</td>\n",
       "      <td>2.129009e+07</td>\n",
       "      <td>2.000000</td>\n",
       "      <td>22.500000</td>\n",
       "      <td>6.865891e+22</td>\n",
       "      <td>0.228000</td>\n",
       "      <td>148.600000</td>\n",
       "    </tr>\n",
       "    <tr>\n",
       "      <th>75%</th>\n",
       "      <td>725.500000</td>\n",
       "      <td>2.336375e+07</td>\n",
       "      <td>11.562500</td>\n",
       "      <td>23.000000</td>\n",
       "      <td>1.030252e+23</td>\n",
       "      <td>0.298858</td>\n",
       "      <td>159.175000</td>\n",
       "    </tr>\n",
       "    <tr>\n",
       "      <th>max</th>\n",
       "      <td>787.000000</td>\n",
       "      <td>2.458309e+07</td>\n",
       "      <td>2634.100000</td>\n",
       "      <td>23.700000</td>\n",
       "      <td>1.481900e+23</td>\n",
       "      <td>0.611016</td>\n",
       "      <td>166.200000</td>\n",
       "    </tr>\n",
       "  </tbody>\n",
       "</table>\n",
       "</div>"
      ],
      "text/plain": [
       "       period_days   distance_km    radius_km        mag       mass_kg  \\\n",
       "count    56.000000  5.600000e+01    56.000000  53.000000  6.000000e+00   \n",
       "mean    525.998146  1.775655e+07   158.969643  20.418302  6.551798e+22   \n",
       "std     272.670243  8.253688e+06   557.730632   4.926587  6.010469e+22   \n",
       "min       0.290000  1.280000e+05     1.000000   4.610000  2.080000e+18   \n",
       "25%     258.750000  1.170252e+07     1.500000  20.800000  1.200276e+22   \n",
       "50%     632.500000  2.129009e+07     2.000000  22.500000  6.865891e+22   \n",
       "75%     725.500000  2.336375e+07    11.562500  23.000000  1.030252e+23   \n",
       "max     787.000000  2.458309e+07  2634.100000  23.700000  1.481900e+23   \n",
       "\n",
       "             ecc  inclination_deg  \n",
       "count  56.000000        56.000000  \n",
       "mean    0.222922       113.571607  \n",
       "std     0.126899        64.562822  \n",
       "min     0.000200         0.030000  \n",
       "25%     0.159201        30.582500  \n",
       "50%     0.228000       148.600000  \n",
       "75%     0.298858       159.175000  \n",
       "max     0.611016       166.200000  "
      ]
     },
     "execution_count": 5,
     "metadata": {},
     "output_type": "execute_result"
    }
   ],
   "source": [
    "# Display summary statistics\n",
    "moons_data.summary_statistics()"
   ]
  },
  {
   "cell_type": "markdown",
   "id": "56045b5a",
   "metadata": {},
   "source": [
    "According to the summary statistics, we can obtain many information about these moons, such as the mean, minimum and maximum value of these attributes. There's a lot of things we can derive from these statistics. For example:\n",
    "\n",
    "#### 1) \"period_days\" (Orbital period of moons in days)\n",
    "The orbital periods of the moon are vastly different from each other, from as minimum as 0.29 days to 787 days, showing diversity in orbital dynamics.\n",
    "\n",
    "#### 2) \"distance_km\" (Distance of moons from Jupiter in km)\n",
    "Range of distances in kilometers are from 128000 km to 24583090 km, highlighting the huge distribution of the moons around Jupiter. A high standard deviation of 8.25 million km indicates the moon are spread out over a large range of distances from Jupiter.\n",
    "\n",
    "#### 3) \"radius_km\" (Radius of moons)\n",
    "Radius of the moons varies from 1 km to 2634.1 km, showing that moons have variety in size. The mean (approximately 159 km) is much closer to the minimum, indicating that most moons are relatively small compared to the large ones\n",
    "\n",
    "From these analytics, we can conclude that there's a significant diversity in orbital periods, distances, and radius, indicating a complex system of moons with varied orbital characteristics and different sizes.\n"
   ]
  },
  {
   "cell_type": "markdown",
   "id": "00314c6e",
   "metadata": {},
   "source": [
    "### Correlation Analysis\n",
    "Understanding how different numerical attributes of the moons correlate with each other can provide valuable insights. We use the `correlation` method for this purpose. Additionally, we'll visualize these correlations using a heatmap.\n"
   ]
  },
  {
   "cell_type": "code",
   "execution_count": 6,
   "id": "e53b5f5f",
   "metadata": {},
   "outputs": [
    {
     "name": "stderr",
     "output_type": "stream",
     "text": [
      "/home/jovyan/PDA/Assessment 1/jupiter.py:40: FutureWarning: The default value of numeric_only in DataFrame.corr is deprecated. In a future version, it will default to False. Select only valid columns or specify the value of numeric_only to silence this warning.\n",
      "  corr_matrix = self.data.corr()\n"
     ]
    },
    {
     "data": {
      "image/png": "[encoded data removed]",
      "text/plain": [
       "<Figure size 640x480 with 2 Axes>"
      ]
     },
     "metadata": {},
     "output_type": "display_data"
    },
    {
     "data": {
      "text/html": [
       "<div>\n",
       "<style scoped>\n",
       "    .dataframe tbody tr th:only-of-type {\n",
       "        vertical-align: middle;\n",
       "    }\n",
       "\n",
       "    .dataframe tbody tr th {\n",
       "        vertical-align: top;\n",
       "    }\n",
       "\n",
       "    .dataframe thead th {\n",
       "        text-align: right;\n",
       "    }\n",
       "</style>\n",
       "<table border=\"1\" class=\"dataframe\">\n",
       "  <thead>\n",
       "    <tr style=\"text-align: right;\">\n",
       "      <th></th>\n",
       "      <th>period_days</th>\n",
       "      <th>distance_km</th>\n",
       "      <th>radius_km</th>\n",
       "      <th>mag</th>\n",
       "      <th>mass_kg</th>\n",
       "      <th>ecc</th>\n",
       "      <th>inclination_deg</th>\n",
       "    </tr>\n",
       "  </thead>\n",
       "  <tbody>\n",
       "    <tr>\n",
       "      <th>period_days</th>\n",
       "      <td>1.000000</td>\n",
       "      <td>0.991521</td>\n",
       "      <td>-0.534434</td>\n",
       "      <td>0.742646</td>\n",
       "      <td>-0.504430</td>\n",
       "      <td>0.737181</td>\n",
       "      <td>0.969493</td>\n",
       "    </tr>\n",
       "    <tr>\n",
       "      <th>distance_km</th>\n",
       "      <td>0.991521</td>\n",
       "      <td>1.000000</td>\n",
       "      <td>-0.567266</td>\n",
       "      <td>0.799187</td>\n",
       "      <td>-0.453339</td>\n",
       "      <td>0.750819</td>\n",
       "      <td>0.953873</td>\n",
       "    </tr>\n",
       "    <tr>\n",
       "      <th>radius_km</th>\n",
       "      <td>-0.534434</td>\n",
       "      <td>-0.567266</td>\n",
       "      <td>1.000000</td>\n",
       "      <td>-0.887393</td>\n",
       "      <td>0.968379</td>\n",
       "      <td>-0.478901</td>\n",
       "      <td>-0.487645</td>\n",
       "    </tr>\n",
       "    <tr>\n",
       "      <th>mag</th>\n",
       "      <td>0.742646</td>\n",
       "      <td>0.799187</td>\n",
       "      <td>-0.887393</td>\n",
       "      <td>1.000000</td>\n",
       "      <td>-0.861359</td>\n",
       "      <td>0.554617</td>\n",
       "      <td>0.688529</td>\n",
       "    </tr>\n",
       "    <tr>\n",
       "      <th>mass_kg</th>\n",
       "      <td>-0.504430</td>\n",
       "      <td>-0.453339</td>\n",
       "      <td>0.968379</td>\n",
       "      <td>-0.861359</td>\n",
       "      <td>1.000000</td>\n",
       "      <td>-0.543138</td>\n",
       "      <td>-0.489378</td>\n",
       "    </tr>\n",
       "    <tr>\n",
       "      <th>ecc</th>\n",
       "      <td>0.737181</td>\n",
       "      <td>0.750819</td>\n",
       "      <td>-0.478901</td>\n",
       "      <td>0.554617</td>\n",
       "      <td>-0.543138</td>\n",
       "      <td>1.000000</td>\n",
       "      <td>0.645961</td>\n",
       "    </tr>\n",
       "    <tr>\n",
       "      <th>inclination_deg</th>\n",
       "      <td>0.969493</td>\n",
       "      <td>0.953873</td>\n",
       "      <td>-0.487645</td>\n",
       "      <td>0.688529</td>\n",
       "      <td>-0.489378</td>\n",
       "      <td>0.645961</td>\n",
       "      <td>1.000000</td>\n",
       "    </tr>\n",
       "  </tbody>\n",
       "</table>\n",
       "</div>"
      ],
      "text/plain": [
       "                 period_days  distance_km  radius_km       mag   mass_kg  \\\n",
       "period_days         1.000000     0.991521  -0.534434  0.742646 -0.504430   \n",
       "distance_km         0.991521     1.000000  -0.567266  0.799187 -0.453339   \n",
       "radius_km          -0.534434    -0.567266   1.000000 -0.887393  0.968379   \n",
       "mag                 0.742646     0.799187  -0.887393  1.000000 -0.861359   \n",
       "mass_kg            -0.504430    -0.453339   0.968379 -0.861359  1.000000   \n",
       "ecc                 0.737181     0.750819  -0.478901  0.554617 -0.543138   \n",
       "inclination_deg     0.969493     0.953873  -0.487645  0.688529 -0.489378   \n",
       "\n",
       "                      ecc  inclination_deg  \n",
       "period_days      0.737181         0.969493  \n",
       "distance_km      0.750819         0.953873  \n",
       "radius_km       -0.478901        -0.487645  \n",
       "mag              0.554617         0.688529  \n",
       "mass_kg         -0.543138        -0.489378  \n",
       "ecc              1.000000         0.645961  \n",
       "inclination_deg  0.645961         1.000000  "
      ]
     },
     "execution_count": 6,
     "metadata": {},
     "output_type": "execute_result"
    }
   ],
   "source": [
    "moons_data.correlation(visualise = True)"
   ]
  },
  {
   "cell_type": "markdown",
   "id": "629ae208",
   "metadata": {},
   "source": [
    "Before we delve into the correlation analysis, let's understand what correlation values are:\n",
    "\n",
    "#### Understanding correlation values\n",
    "\n",
    "- A correlation value close to +1 indicates a strong positive relationship.\n",
    "- A value close to -1 indicates a strong negative relationship.\n",
    "- Values near 0 suggest little to no linear relationship.\n",
    "\n",
    "Now we analyse each of the correlations:\n",
    "\n",
    "#### 1. \"period_days\" and \"distance_km\" (0.991521)\n",
    "A value of 0.991521 indicates a very strong positive relationship between these two characteristics, in a way suggests that moons that are far from Jupiter have longer orbital periods. According to Kepler's Third Law, the square of a planet's orbital period, T, is proportional to the cube of the length of the semi-major axis, a, of its orbit, which is consistent with the correlation we obtained.\n",
    "\n",
    "#### 2. \"radius_km\" and \"mass_kg\" (0.96837)\n",
    "This very high value of correlation (0.96837) suggests that larger moons have larger mass, which is expected as larger bodies generally have greater volumes and higher mass. \n",
    "\n",
    "#### 3. \"radius_km\" and 'mag' (-0.887393)\n",
    "This negative value indicates that radius and magnitude has negative relationship. This suggests that larger-sized moons have lower magnitudes, meaning that they appear brighter from the observer in Earth. Since magnitude in astronomy is inversely related to brightness, this makes sense - larger moons reflecting more light could appear brighter.\n",
    "\n",
    "#### Key takeaways\n",
    "- The strong correlation between orbital period and distance from Jupiter aligns well with Kepler's Third Law.\n",
    "- Larger and more massive moons tend to be brighter, as indicated by their negative correlation with magnitude.\n",
    "\n",
    "\n",
    "\n"
   ]
  },
  {
   "cell_type": "markdown",
   "id": "47b86e0b",
   "metadata": {},
   "source": [
    "### Retrieving Data for a Specific Moon\n",
    "If we want to focus our analysis on a specific moon, we can use the `get_moon_data` method. Let's retrieve data for the moon \"Ganymede\".This moon is particularly interesting because it's not only the largest moon of Jupiter but also the largest moon in the entire Solar System. It's even larger than the planet Mercury.\n"
   ]
  },
  {
   "cell_type": "code",
   "execution_count": 9,
   "id": "b57184e5",
   "metadata": {},
   "outputs": [
    {
     "data": {
      "text/html": [
       "<div>\n",
       "<style scoped>\n",
       "    .dataframe tbody tr th:only-of-type {\n",
       "        vertical-align: middle;\n",
       "    }\n",
       "\n",
       "    .dataframe tbody tr th {\n",
       "        vertical-align: top;\n",
       "    }\n",
       "\n",
       "    .dataframe thead th {\n",
       "        text-align: right;\n",
       "    }\n",
       "</style>\n",
       "<table border=\"1\" class=\"dataframe\">\n",
       "  <thead>\n",
       "    <tr style=\"text-align: right;\">\n",
       "      <th></th>\n",
       "      <th>moon</th>\n",
       "      <th>period_days</th>\n",
       "      <th>distance_km</th>\n",
       "      <th>radius_km</th>\n",
       "      <th>mag</th>\n",
       "      <th>mass_kg</th>\n",
       "      <th>group</th>\n",
       "      <th>ecc</th>\n",
       "      <th>inclination_deg</th>\n",
       "    </tr>\n",
       "  </thead>\n",
       "  <tbody>\n",
       "    <tr>\n",
       "      <th>24</th>\n",
       "      <td>Ganymede</td>\n",
       "      <td>7.15</td>\n",
       "      <td>1070400.0</td>\n",
       "      <td>2634.1</td>\n",
       "      <td>4.61</td>\n",
       "      <td>1.481900e+23</td>\n",
       "      <td>Galilean</td>\n",
       "      <td>0.0013</td>\n",
       "      <td>2.2</td>\n",
       "    </tr>\n",
       "  </tbody>\n",
       "</table>\n",
       "</div>"
      ],
      "text/plain": [
       "        moon  period_days  distance_km  radius_km   mag       mass_kg  \\\n",
       "24  Ganymede         7.15    1070400.0     2634.1  4.61  1.481900e+23   \n",
       "\n",
       "       group     ecc  inclination_deg  \n",
       "24  Galilean  0.0013              2.2  "
      ]
     },
     "execution_count": 9,
     "metadata": {},
     "output_type": "execute_result"
    }
   ],
   "source": [
    "# Retrieve data for \"Ganymede\"\n",
    "moons_data.get_moon_data('Ganymede')\n"
   ]
  },
  {
   "cell_type": "markdown",
   "id": "77dd56f5",
   "metadata": {},
   "source": [
    "### Analysis of Ganymede\n",
    "\n",
    "#### 1. Orbital Period (period_days)\n",
    "With an orbital period spanning only 7.15 days, Ganymede completes its journey around Jupiter relatively quickly, especially when you consider its distance from the planet.\n",
    "\n",
    "#### 2. Proximity to Jupiter (distance_km)\n",
    "Ganymede orbits at a distance of about 1,070,400 kilometers from Jupiter. This substantial distance places it among the Galilean moons, a group characterized by their large sizes and significant distances from Jupiter.\n",
    "\n",
    "#### 3. Orbital Shape (ecc)\n",
    "The orbital eccentricity of Ganymede is measured at a mere 0.0013, indicating that its path around Jupiter is almost a perfect circle, with only a slight deviation.\n",
    "\n",
    "#### 4. Orbital Tilt (inclination_deg)\n",
    "The inclination of Ganymede’s orbit is just 2.2 degrees. This suggests that its orbit aligns closely with the equatorial plane of Jupiter, implying only a minor angular deviation.\n",
    "\n",
    "\n",
    "\n",
    "\n"
   ]
  },
  {
   "cell_type": "code",
   "execution_count": null,
   "id": "ea7106d8",
   "metadata": {},
   "outputs": [],
   "source": []
  }
 ],
 "metadata": {
  "kernelspec": {
   "display_name": "Python 3 (ipykernel)",
   "language": "python",
   "name": "python3"
  },
  "language_info": {
   "codemirror_mode": {
    "name": "ipython",
    "version": 3
   },
   "file_extension": ".py",
   "mimetype": "text/x-python",
   "name": "python",
   "nbconvert_exporter": "python",
   "pygments_lexer": "ipython3",
   "version": "3.9.13"
  }
 },
 "nbformat": 4,
 "nbformat_minor": 5
}
