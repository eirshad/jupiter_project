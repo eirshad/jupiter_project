{
 "cells": [
  {
   "cell_type": "markdown",
   "id": "6035f48b",
   "metadata": {},
   "source": [
    "# Jupiter's Moons Analysis (Task 1)"
   ]
  },
  {
   "cell_type": "markdown",
   "id": "5ad9f3d8",
   "metadata": {},
   "source": [
    "### Introduction:\n",
    "In this notebook, we will explore and analyse the dataset of Jupiter's moons. Jupiter, the largest planet in our Solar System, is known for having a large number of moons, each with unique characteristics and orbital properties. Our analysis aims to discover insights into these moons, by using the `Moons` class from the `jupiter.py` module, specifically developed for this purpose.\n",
    "\n",
    "The dataset includes various attributes of the moons such as their orbital period, distance from Jupiter, physical dimensions, and more. Through this analysis, we hope to understand more about these celestial bodies and their relationships with Jupiter."
   ]
  },
  {
   "cell_type": "markdown",
   "id": "eba92db4",
   "metadata": {},
   "source": [
    "### Loading the data\n",
    "To load the data, we import the \"Moons\" class from the \"jupiter.py\" model, and we create a database path to load the database here"
   ]
  },
  {
   "cell_type": "code",
   "execution_count": 1,
   "id": "3964662e",
   "metadata": {},
   "outputs": [],
   "source": [
    "from jupiter import Moons"
   ]
  },
  {
   "cell_type": "code",
   "execution_count": 2,
   "id": "7a5104ac",
   "metadata": {},
   "outputs": [],
   "source": [
    "db_path = \"data/jupiter.db\"\n",
    "moons_data = Moons(db_path)"
   ]
  },
  {
   "cell_type": "markdown",
   "id": "30b59844",
   "metadata": {},
   "source": [
    "### Dataset Structure\n",
    "Let's discuss the overall structure of our dataset. We'll look into the number of fields and records to get a sense of its size and scope.\n"
   ]
  },
  {
   "cell_type": "code",
   "execution_count": 3,
   "id": "1875e218",
   "metadata": {},
   "outputs": [
    {
     "name": "stdout",
     "output_type": "stream",
     "text": [
      "The dataset contains 56 records and 9 fields.\n"
     ]
    }
   ],
   "source": [
    "# Display the shape of the dataset\n",
    "num_records, num_fields = moons_data.data.shape\n",
    "print(f\"The dataset contains {num_records} records and {num_fields} fields.\")\n"
   ]
  },
  {
   "cell_type": "markdown",
   "id": "796cf86a",
   "metadata": {},
   "source": [
    "### Checking Data Completeness\n",
    "To ensure the reliability of our analysis, it's important to check for missing values in the dataset. The `check_completeness` method helps us identify if there are any gaps in our data.\n"
   ]
  },
  {
   "cell_type": "code",
   "execution_count": 4,
   "id": "a8a2ad84",
   "metadata": {},
   "outputs": [
    {
     "data": {
      "text/plain": [
       "moon                0\n",
       "period_days         0\n",
       "distance_km         0\n",
       "radius_km           0\n",
       "mag                 3\n",
       "mass_kg            50\n",
       "group               0\n",
       "ecc                 0\n",
       "inclination_deg     0\n",
       "dtype: int64"
      ]
     },
     "execution_count": 4,
     "metadata": {},
     "output_type": "execute_result"
    }
   ],
   "source": [
    "# Check for missing values in the dataset\n",
    "moons_data.completeness()\n"
   ]
  },
  {
   "cell_type": "markdown",
   "id": "fbb558d4",
   "metadata": {},
   "source": [
    "It seems that there are 3 empty data from the \"mag\" column, and 50 missing data from the mass_kg column, so we are notified of the missing values before we proceed to the next step\n"
   ]
  },
  {
   "cell_type": "markdown",
   "id": "c018dcef",
   "metadata": {},
   "source": [
    "### Summary Statistics\n",
    "Let's start by looking at the summary statistics of the dataset. This will give us a good overview of the numerical attributes of Jupiter's moons.\n"
   ]
  },
  {
   "cell_type": "code",
   "execution_count": 5,
   "id": "2af3995d",
   "metadata": {
    "scrolled": true
   },
   "outputs": [
    {
     "data": {
      "text/html": [
       "<div>\n",
       "<style scoped>\n",
       "    .dataframe tbody tr th:only-of-type {\n",
       "        vertical-align: middle;\n",
       "    }\n",
       "\n",
       "    .dataframe tbody tr th {\n",
       "        vertical-align: top;\n",
       "    }\n",
       "\n",
       "    .dataframe thead th {\n",
       "        text-align: right;\n",
       "    }\n",
       "</style>\n",
       "<table border=\"1\" class=\"dataframe\">\n",
       "  <thead>\n",
       "    <tr style=\"text-align: right;\">\n",
       "      <th></th>\n",
       "      <th>period_days</th>\n",
       "      <th>distance_km</th>\n",
       "      <th>radius_km</th>\n",
       "      <th>mag</th>\n",
       "      <th>mass_kg</th>\n",
       "      <th>ecc</th>\n",
       "      <th>inclination_deg</th>\n",
       "    </tr>\n",
       "  </thead>\n",
       "  <tbody>\n",
       "    <tr>\n",
       "      <th>count</th>\n",
       "      <td>56.000000</td>\n",
       "      <td>5.600000e+01</td>\n",
       "      <td>56.000000</td>\n",
       "      <td>53.000000</td>\n",
       "      <td>6.000000e+00</td>\n",
       "      <td>56.000000</td>\n",
       "      <td>56.000000</td>\n",
       "    </tr>\n",
       "    <tr>\n",
       "      <th>mean</th>\n",
       "      <td>525.998146</td>\n",
       "      <td>1.775655e+07</td>\n",
       "      <td>158.969643</td>\n",
       "      <td>20.418302</td>\n",
       "      <td>6.551798e+22</td>\n",
       "      <td>0.222922</td>\n",
       "      <td>113.571607</td>\n",
       "    </tr>\n",
       "    <tr>\n",
       "      <th>std</th>\n",
       "      <td>272.670243</td>\n",
       "      <td>8.253688e+06</td>\n",
       "      <td>557.730632</td>\n",
       "      <td>4.926587</td>\n",
       "      <td>6.010469e+22</td>\n",
       "      <td>0.126899</td>\n",
       "      <td>64.562822</td>\n",
       "    </tr>\n",
       "    <tr>\n",
       "      <th>min</th>\n",
       "      <td>0.290000</td>\n",
       "      <td>1.280000e+05</td>\n",
       "      <td>1.000000</td>\n",
       "      <td>4.610000</td>\n",
       "      <td>2.080000e+18</td>\n",
       "      <td>0.000200</td>\n",
       "      <td>0.030000</td>\n",
       "    </tr>\n",
       "    <tr>\n",
       "      <th>25%</th>\n",
       "      <td>258.750000</td>\n",
       "      <td>1.170252e+07</td>\n",
       "      <td>1.500000</td>\n",
       "      <td>20.800000</td>\n",
       "      <td>1.200276e+22</td>\n",
       "      <td>0.159201</td>\n",
       "      <td>30.582500</td>\n",
       "    </tr>\n",
       "    <tr>\n",
       "      <th>50%</th>\n",
       "      <td>632.500000</td>\n",
       "      <td>2.129009e+07</td>\n",
       "      <td>2.000000</td>\n",
       "      <td>22.500000</td>\n",
       "      <td>6.865891e+22</td>\n",
       "      <td>0.228000</td>\n",
       "      <td>148.600000</td>\n",
       "    </tr>\n",
       "    <tr>\n",
       "      <th>75%</th>\n",
       "      <td>725.500000</td>\n",
       "      <td>2.336375e+07</td>\n",
       "      <td>11.562500</td>\n",
       "      <td>23.000000</td>\n",
       "      <td>1.030252e+23</td>\n",
       "      <td>0.298858</td>\n",
       "      <td>159.175000</td>\n",
       "    </tr>\n",
       "    <tr>\n",
       "      <th>max</th>\n",
       "      <td>787.000000</td>\n",
       "      <td>2.458309e+07</td>\n",
       "      <td>2634.100000</td>\n",
       "      <td>23.700000</td>\n",
       "      <td>1.481900e+23</td>\n",
       "      <td>0.611016</td>\n",
       "      <td>166.200000</td>\n",
       "    </tr>\n",
       "  </tbody>\n",
       "</table>\n",
       "</div>"
      ],
      "text/plain": [
       "       period_days   distance_km    radius_km        mag       mass_kg  \\\n",
       "count    56.000000  5.600000e+01    56.000000  53.000000  6.000000e+00   \n",
       "mean    525.998146  1.775655e+07   158.969643  20.418302  6.551798e+22   \n",
       "std     272.670243  8.253688e+06   557.730632   4.926587  6.010469e+22   \n",
       "min       0.290000  1.280000e+05     1.000000   4.610000  2.080000e+18   \n",
       "25%     258.750000  1.170252e+07     1.500000  20.800000  1.200276e+22   \n",
       "50%     632.500000  2.129009e+07     2.000000  22.500000  6.865891e+22   \n",
       "75%     725.500000  2.336375e+07    11.562500  23.000000  1.030252e+23   \n",
       "max     787.000000  2.458309e+07  2634.100000  23.700000  1.481900e+23   \n",
       "\n",
       "             ecc  inclination_deg  \n",
       "count  56.000000        56.000000  \n",
       "mean    0.222922       113.571607  \n",
       "std     0.126899        64.562822  \n",
       "min     0.000200         0.030000  \n",
       "25%     0.159201        30.582500  \n",
       "50%     0.228000       148.600000  \n",
       "75%     0.298858       159.175000  \n",
       "max     0.611016       166.200000  "
      ]
     },
     "execution_count": 5,
     "metadata": {},
     "output_type": "execute_result"
    }
   ],
   "source": [
    "# Display summary statistics\n",
    "moons_data.summary_statistics()"
   ]
  },
  {
   "cell_type": "markdown",
   "id": "56045b5a",
   "metadata": {},
   "source": [
    "According to the summary statistics, we can obtain many information about these moons, such as the mean, minimum and maximum value of these attributes. There's a lot of things we can derive from these statistics. For example:\n",
    "\n",
    "#### 1) \"period_days\" (Orbital period of moons in days)\n",
    "The orbital periods of the moon are vastly different from each other, from as minimum as 0.29 days to 787 days, showing diversity in orbital dynamics.\n",
    "\n",
    "#### 2) \"distance_km\" (Distance of moons from Jupiter in km)\n",
    "Range of distances in kilometers are from 128000 km to 24583090 km, highlighting the huge distribution of the moons around Jupiter. A high standard deviation of 8.25 million km indicates the moon are spread out over a large range of distances from Jupiter.\n",
    "\n",
    "#### 3) \"radius_km\" (Radius of moons)\n",
    "Radius of the moons varies from 1 km to 2634.1 km, showing that moons have variety in size. The mean (approximately 159 km) is much closer to the minimum, indicating that most moons are relatively small compared to the large ones\n",
    "\n",
    "From these analytics, we can conclude that there's a significant diversity in orbital periods, distances, and radius, indicating a complex system of moons with varied orbital characteristics and different sizes.\n"
   ]
  },
  {
   "cell_type": "markdown",
   "id": "00314c6e",
   "metadata": {},
   "source": [
    "### Correlation Analysis\n",
    "Understanding how different numerical attributes of the moons correlate with each other can provide valuable insights. We use the `correlation` method for this purpose. Additionally, we'll visualise these correlations using a heatmap.\n"
   ]
  },
  {
   "cell_type": "code",
   "execution_count": 6,
   "id": "e53b5f5f",
   "metadata": {},
   "outputs": [
    {
     "name": "stderr",
     "output_type": "stream",
     "text": [
      "/home/jovyan/PDA/Assessment 1/jupiter.py:61: FutureWarning: The default value of numeric_only in DataFrame.corr is deprecated. In a future version, it will default to False. Select only valid columns or specify the value of numeric_only to silence this warning.\n",
      "  corr_matrix = self.data.corr()\n"
     ]
    },
    {
     "data": {
      "image/png": "[encoded data removed]",
      "text/plain": [
       "<Figure size 640x480 with 2 Axes>"
      ]
     },
     "metadata": {},
     "output_type": "display_data"
    },
    {
     "data": {
      "text/html": [
       "<div>\n",
       "<style scoped>\n",
       "    .dataframe tbody tr th:only-of-type {\n",
       "        vertical-align: middle;\n",
       "    }\n",
       "\n",
       "    .dataframe tbody tr th {\n",
       "        vertical-align: top;\n",
       "    }\n",
       "\n",
       "    .dataframe thead th {\n",
       "        text-align: right;\n",
       "    }\n",
       "</style>\n",
       "<table border=\"1\" class=\"dataframe\">\n",
       "  <thead>\n",
       "    <tr style=\"text-align: right;\">\n",
       "      <th></th>\n",
       "      <th>period_days</th>\n",
       "      <th>distance_km</th>\n",
       "      <th>radius_km</th>\n",
       "      <th>mag</th>\n",
       "      <th>mass_kg</th>\n",
       "      <th>ecc</th>\n",
       "      <th>inclination_deg</th>\n",
       "    </tr>\n",
       "  </thead>\n",
       "  <tbody>\n",
       "    <tr>\n",
       "      <th>period_days</th>\n",
       "      <td>1.000000</td>\n",
       "      <td>0.991521</td>\n",
       "      <td>-0.534434</td>\n",
       "      <td>0.742646</td>\n",
       "      <td>-0.504430</td>\n",
       "      <td>0.737181</td>\n",
       "      <td>0.969493</td>\n",
       "    </tr>\n",
       "    <tr>\n",
       "      <th>distance_km</th>\n",
       "      <td>0.991521</td>\n",
       "      <td>1.000000</td>\n",
       "      <td>-0.567266</td>\n",
       "      <td>0.799187</td>\n",
       "      <td>-0.453339</td>\n",
       "      <td>0.750819</td>\n",
       "      <td>0.953873</td>\n",
       "    </tr>\n",
       "    <tr>\n",
       "      <th>radius_km</th>\n",
       "      <td>-0.534434</td>\n",
       "      <td>-0.567266</td>\n",
       "      <td>1.000000</td>\n",
       "      <td>-0.887393</td>\n",
       "      <td>0.968379</td>\n",
       "      <td>-0.478901</td>\n",
       "      <td>-0.487645</td>\n",
       "    </tr>\n",
       "    <tr>\n",
       "      <th>mag</th>\n",
       "      <td>0.742646</td>\n",
       "      <td>0.799187</td>\n",
       "      <td>-0.887393</td>\n",
       "      <td>1.000000</td>\n",
       "      <td>-0.861359</td>\n",
       "      <td>0.554617</td>\n",
       "      <td>0.688529</td>\n",
       "    </tr>\n",
       "    <tr>\n",
       "      <th>mass_kg</th>\n",
       "      <td>-0.504430</td>\n",
       "      <td>-0.453339</td>\n",
       "      <td>0.968379</td>\n",
       "      <td>-0.861359</td>\n",
       "      <td>1.000000</td>\n",
       "      <td>-0.543138</td>\n",
       "      <td>-0.489378</td>\n",
       "    </tr>\n",
       "    <tr>\n",
       "      <th>ecc</th>\n",
       "      <td>0.737181</td>\n",
       "      <td>0.750819</td>\n",
       "      <td>-0.478901</td>\n",
       "      <td>0.554617</td>\n",
       "      <td>-0.543138</td>\n",
       "      <td>1.000000</td>\n",
       "      <td>0.645961</td>\n",
       "    </tr>\n",
       "    <tr>\n",
       "      <th>inclination_deg</th>\n",
       "      <td>0.969493</td>\n",
       "      <td>0.953873</td>\n",
       "      <td>-0.487645</td>\n",
       "      <td>0.688529</td>\n",
       "      <td>-0.489378</td>\n",
       "      <td>0.645961</td>\n",
       "      <td>1.000000</td>\n",
       "    </tr>\n",
       "  </tbody>\n",
       "</table>\n",
       "</div>"
      ],
      "text/plain": [
       "                 period_days  distance_km  radius_km       mag   mass_kg  \\\n",
       "period_days         1.000000     0.991521  -0.534434  0.742646 -0.504430   \n",
       "distance_km         0.991521     1.000000  -0.567266  0.799187 -0.453339   \n",
       "radius_km          -0.534434    -0.567266   1.000000 -0.887393  0.968379   \n",
       "mag                 0.742646     0.799187  -0.887393  1.000000 -0.861359   \n",
       "mass_kg            -0.504430    -0.453339   0.968379 -0.861359  1.000000   \n",
       "ecc                 0.737181     0.750819  -0.478901  0.554617 -0.543138   \n",
       "inclination_deg     0.969493     0.953873  -0.487645  0.688529 -0.489378   \n",
       "\n",
       "                      ecc  inclination_deg  \n",
       "period_days      0.737181         0.969493  \n",
       "distance_km      0.750819         0.953873  \n",
       "radius_km       -0.478901        -0.487645  \n",
       "mag              0.554617         0.688529  \n",
       "mass_kg         -0.543138        -0.489378  \n",
       "ecc              1.000000         0.645961  \n",
       "inclination_deg  0.645961         1.000000  "
      ]
     },
     "execution_count": 6,
     "metadata": {},
     "output_type": "execute_result"
    }
   ],
   "source": [
    "moons_data.correlation(visualise = True)"
   ]
  },
  {
   "cell_type": "markdown",
   "id": "629ae208",
   "metadata": {},
   "source": [
    "Before we delve into the correlation analysis, let's understand what correlation values are:\n",
    "\n",
    "#### Understanding correlation values\n",
    "\n",
    "- A correlation value close to +1 indicates a strong positive relationship.\n",
    "- A value close to -1 indicates a strong negative relationship.\n",
    "- Values near 0 suggest little to no linear relationship.\n",
    "\n",
    "Now we analyse each of the correlations:\n",
    "\n",
    "#### 1. \"period_days\" and \"distance_km\" (0.991521)\n",
    "A value of 0.991521 indicates a very strong positive relationship between these two characteristics, in a way suggests that moons that are far from Jupiter have longer orbital periods. According to Kepler's Third Law, the square of a planet's orbital period, T, is proportional to the cube of the length of the semi-major axis, a, of its orbit, which is consistent with the correlation we obtained.\n",
    "\n",
    "#### 2. \"radius_km\" and \"mass_kg\" (0.96837)\n",
    "This very high value of correlation (0.96837) suggests that larger moons have larger mass, which is expected as larger bodies generally have greater volumes and higher mass. \n",
    "\n",
    "#### 3. \"radius_km\" and 'mag' (-0.887393)\n",
    "This negative value indicates that radius and magnitude has negative relationship. This suggests that larger-sized moons have lower magnitudes, meaning that they appear brighter from the observer in Earth. Since magnitude in astronomy is inversely related to brightness, this makes sense - larger moons reflecting more light could appear brighter.\n",
    "\n",
    "#### Key takeaways\n",
    "- The strong correlation between orbital period and distance from Jupiter aligns well with Kepler's Third Law.\n",
    "- Larger and more massive moons tend to be brighter, as indicated by their negative correlation with magnitude.\n",
    "\n",
    "\n",
    "\n"
   ]
  },
  {
   "cell_type": "code",
   "execution_count": 29,
   "id": "9f36824b",
   "metadata": {},
   "outputs": [
    {
     "data": {
      "image/png": "[encoded data removed]",
      "text/plain": [
       "<Figure size 1000x600 with 1 Axes>"
      ]
     },
     "metadata": {},
     "output_type": "display_data"
    }
   ],
   "source": [
    "import seaborn as sns\n",
    "import matplotlib.pyplot as plt\n",
    "\n",
    "plt.figure(figsize=(10, 6))\n",
    "sns.histplot(data=moons_data.data, x='period_days', bins=20, color='skyblue')\n",
    "plt.title('Distribution of Orbital Periods of Jupiter\\'s Moons')\n",
    "plt.xlabel('Orbital Period (days)')\n",
    "plt.ylabel('Count')\n",
    "plt.show()"
   ]
  },
  {
   "cell_type": "markdown",
   "id": "47b86e0b",
   "metadata": {},
   "source": [
    "### Retrieving Data for a Specific Moon\n",
    "If we want to focus our analysis on a specific moon, we can use the `get_moon_data` method. Let's retrieve data for the moon \"Ganymede\".This moon is particularly interesting because it's not only the largest moon of Jupiter but also the largest moon in the entire Solar System. It's even larger than the planet Mercury.\n"
   ]
  },
  {
   "cell_type": "code",
   "execution_count": 7,
   "id": "b57184e5",
   "metadata": {},
   "outputs": [
    {
     "data": {
      "text/html": [
       "<div>\n",
       "<style scoped>\n",
       "    .dataframe tbody tr th:only-of-type {\n",
       "        vertical-align: middle;\n",
       "    }\n",
       "\n",
       "    .dataframe tbody tr th {\n",
       "        vertical-align: top;\n",
       "    }\n",
       "\n",
       "    .dataframe thead th {\n",
       "        text-align: right;\n",
       "    }\n",
       "</style>\n",
       "<table border=\"1\" class=\"dataframe\">\n",
       "  <thead>\n",
       "    <tr style=\"text-align: right;\">\n",
       "      <th></th>\n",
       "      <th>moon</th>\n",
       "      <th>period_days</th>\n",
       "      <th>distance_km</th>\n",
       "      <th>radius_km</th>\n",
       "      <th>mag</th>\n",
       "      <th>mass_kg</th>\n",
       "      <th>group</th>\n",
       "      <th>ecc</th>\n",
       "      <th>inclination_deg</th>\n",
       "    </tr>\n",
       "  </thead>\n",
       "  <tbody>\n",
       "    <tr>\n",
       "      <th>24</th>\n",
       "      <td>Ganymede</td>\n",
       "      <td>7.15</td>\n",
       "      <td>1070400.0</td>\n",
       "      <td>2634.1</td>\n",
       "      <td>4.61</td>\n",
       "      <td>1.481900e+23</td>\n",
       "      <td>Galilean</td>\n",
       "      <td>0.0013</td>\n",
       "      <td>2.2</td>\n",
       "    </tr>\n",
       "  </tbody>\n",
       "</table>\n",
       "</div>"
      ],
      "text/plain": [
       "        moon  period_days  distance_km  radius_km   mag       mass_kg  \\\n",
       "24  Ganymede         7.15    1070400.0     2634.1  4.61  1.481900e+23   \n",
       "\n",
       "       group     ecc  inclination_deg  \n",
       "24  Galilean  0.0013              2.2  "
      ]
     },
     "execution_count": 7,
     "metadata": {},
     "output_type": "execute_result"
    }
   ],
   "source": [
    "# Retrieve data for \"Ganymede\"\n",
    "moons_data.get_moon_data('Ganymede')\n"
   ]
  },
  {
   "cell_type": "markdown",
   "id": "77dd56f5",
   "metadata": {},
   "source": [
    "### Analysis of Ganymede\n",
    "\n",
    "#### 1. Orbital Period (period_days)\n",
    "With an orbital period spanning only 7.15 days, Ganymede completes its journey around Jupiter relatively quickly, especially when you consider its distance from the planet.\n",
    "\n",
    "#### 2. Proximity to Jupiter (distance_km)\n",
    "Ganymede orbits at a distance of about 1,070,400 kilometers from Jupiter. This substantial distance places it among the Galilean moons, a group characterized by their large sizes and significant distances from Jupiter.\n",
    "\n",
    "#### 3. Orbital Shape (ecc)\n",
    "The orbital eccentricity of Ganymede is measured at a mere 0.0013, indicating that its path around Jupiter is almost a perfect circle, with only a slight deviation.\n",
    "\n",
    "#### 4. Orbital Tilt (inclination_deg)\n",
    "The inclination of Ganymede’s orbit is just 2.2 degrees. This suggests that its orbit aligns closely with the equatorial plane of Jupiter, implying only a minor angular deviation.\n",
    "\n",
    "\n",
    "\n",
    "\n"
   ]
  },
  {
   "cell_type": "markdown",
   "id": "f5509e54",
   "metadata": {},
   "source": [
    "### Scatter Plot between variables\n",
    "\n",
    "The distribution of these moons in the scatter plot can provide insights into the dynamics of the Jupiter system. The distinct distances and orbital periods reflect the complex gravitational interactions and historical formation scenarios of the moons. Let's create a scatter plot for plotting variables of distance between Jupiter and the Moons, and its orbital periods.\n",
    "\n",
    "For simplification, we can observe Galilean moons, which are the four largest moons of Jupiter; Io, Europa, Ganymede, and Callisto. They were first observed by Galileo Galilei in 1610 and were the first objects to be found to orbit another planet. These moons are among the largest in the Solar System, with Ganymede being the largest moon overall."
   ]
  },
  {
   "cell_type": "code",
   "execution_count": 20,
   "id": "478fd013",
   "metadata": {},
   "outputs": [
    {
     "data": {
      "image/png": "[encoded data removed]",
      "text/plain": [
       "<Figure size 640x480 with 1 Axes>"
      ]
     },
     "metadata": {},
     "output_type": "display_data"
    }
   ],
   "source": [
    "# Plotting for Galilean moons: Orbital Period vs Distance from Jupiter\n",
    "\n",
    "# List of Galilean moons\n",
    "galilean_moons = ['Io', 'Europa', 'Ganymede', 'Callisto']\n",
    "\n",
    "# Filter data for only Galilean moons\n",
    "filtered_data = moons_data.data[moons_data.data['moon'].isin(galilean_moons)]\n",
    "\n",
    "# Plotting Orbital Period vs Distance from Jupiter for specified moons\n",
    "moons_data.plot_scatter(\n",
    "    x_column = 'distance_km',\n",
    "    y_column = 'period_days',\n",
    "    hue = 'moon',\n",
    "    title = 'Orbital Period vs. Distance from Jupiter for Galilean Moons',\n",
    "    xlabel = 'Distance from Jupiter (km)',\n",
    "    ylabel = 'Orbital Period (days)',\n",
    "    data = filtered_data  # Use the filtered data for Galilean moons\n",
    ")"
   ]
  },
  {
   "cell_type": "markdown",
   "id": "d704bc19",
   "metadata": {},
   "source": [
    "#### Orbital Period and Distance Correlation:\n",
    "\n",
    "The scatter plot would typically show a positive correlation between the distance of each Galilean moon from Jupiter and its orbital period. This trend is consistent with Kepler's Third Law, which states that the square of the orbital period is proportional to the cube of the semi-major axis of the orbit.\n",
    "\n",
    "#### Unique Characteristics of Each Moon:\n",
    "\n",
    "###### Io:\n",
    "Being the closest to Jupiter, Io has the shortest orbital period. The proximity of Io to Jupiter leads to significant tidal heating and volcanic activity.\n",
    "\n",
    "###### Europa:\n",
    "Slightly further out, Europa has a longer orbital period. It is notable for its potential subsurface ocean beneath a surface of ice, making it a focus of astrobiological interest.\n",
    "\n",
    "###### Ganymede: \n",
    "As the largest moon of Jupiter, Ganymede's position in the scatter plot would reflect its status as the furthest out of the inner Galilean moons. It has a substantial magnetic field and it is also the only moon known to have its own magnetosphere.\n",
    "\n",
    "###### Callisto:\n",
    "The furthest of the Galilean moons from Jupiter, Callisto has the longest orbital period among others. It's described as having a heavily cratered surface, indicating an ancient and unaltered exterior."
   ]
  },
  {
   "cell_type": "markdown",
   "id": "4975d928",
   "metadata": {},
   "source": [
    "# Jupiter's Mass Prediction (Task 2)"
   ]
  },
  {
   "cell_type": "markdown",
   "id": "e8ec8cf1",
   "metadata": {},
   "source": [
    "### Estimating Jupiter's Mass Using Linear Regression\n",
    "\n",
    "We will perform the estimation process, mainly by using methods created in the 'Moons' class in the separate module \"jupiter.py\". \n",
    "\n",
    "\n"
   ]
  },
  {
   "cell_type": "markdown",
   "id": "878213c3",
   "metadata": {},
   "source": [
    "### Preparing the data\n",
    "\n",
    "We use 'prepare_regression_data' method to prepare our dataset to apply Kepler's Third Law in a regression analysis context.\n",
    "\n",
    "This function executes few steps\n",
    "\n",
    "- Initially, the orbital period of the moons ('period_days') are in days. We convert the orbital period from days to seconds.\n",
    "\n",
    "- The distances (\"distance_km\") are converted from kilometers to meters\n",
    "\n",
    "- Create new columns for T^2 and a^3\n",
    "\n",
    "\n",
    "\n",
    "\n",
    "\n",
    "\n"
   ]
  },
  {
   "cell_type": "code",
   "execution_count": 24,
   "id": "03d5b8d0",
   "metadata": {},
   "outputs": [
    {
     "data": {
      "text/html": [
       "<div>\n",
       "<style scoped>\n",
       "    .dataframe tbody tr th:only-of-type {\n",
       "        vertical-align: middle;\n",
       "    }\n",
       "\n",
       "    .dataframe tbody tr th {\n",
       "        vertical-align: top;\n",
       "    }\n",
       "\n",
       "    .dataframe thead th {\n",
       "        text-align: right;\n",
       "    }\n",
       "</style>\n",
       "<table border=\"1\" class=\"dataframe\">\n",
       "  <thead>\n",
       "    <tr style=\"text-align: right;\">\n",
       "      <th></th>\n",
       "      <th>moon</th>\n",
       "      <th>period_days</th>\n",
       "      <th>distance_km</th>\n",
       "      <th>radius_km</th>\n",
       "      <th>mag</th>\n",
       "      <th>mass_kg</th>\n",
       "      <th>group</th>\n",
       "      <th>ecc</th>\n",
       "      <th>inclination_deg</th>\n",
       "      <th>T2</th>\n",
       "      <th>a3</th>\n",
       "    </tr>\n",
       "  </thead>\n",
       "  <tbody>\n",
       "    <tr>\n",
       "      <th>0</th>\n",
       "      <td>Adrastea</td>\n",
       "      <td>0.298</td>\n",
       "      <td>129000.0</td>\n",
       "      <td>8.2</td>\n",
       "      <td>NaN</td>\n",
       "      <td>NaN</td>\n",
       "      <td>Inner</td>\n",
       "      <td>0.001500</td>\n",
       "      <td>0.03</td>\n",
       "      <td>6.629183e+08</td>\n",
       "      <td>2.146689e+24</td>\n",
       "    </tr>\n",
       "    <tr>\n",
       "      <th>1</th>\n",
       "      <td>Aitne</td>\n",
       "      <td>730.000</td>\n",
       "      <td>23231000.0</td>\n",
       "      <td>1.5</td>\n",
       "      <td>22.7</td>\n",
       "      <td>NaN</td>\n",
       "      <td>Carme</td>\n",
       "      <td>0.264000</td>\n",
       "      <td>165.00</td>\n",
       "      <td>3.978077e+15</td>\n",
       "      <td>1.253729e+31</td>\n",
       "    </tr>\n",
       "    <tr>\n",
       "      <th>2</th>\n",
       "      <td>Amalthea</td>\n",
       "      <td>0.498</td>\n",
       "      <td>181400.0</td>\n",
       "      <td>83.5</td>\n",
       "      <td>14.1</td>\n",
       "      <td>2.080000e+18</td>\n",
       "      <td>Inner</td>\n",
       "      <td>0.003190</td>\n",
       "      <td>0.37</td>\n",
       "      <td>1.851340e+09</td>\n",
       "      <td>5.969141e+24</td>\n",
       "    </tr>\n",
       "    <tr>\n",
       "      <th>3</th>\n",
       "      <td>Ananke</td>\n",
       "      <td>630.000</td>\n",
       "      <td>21300000.0</td>\n",
       "      <td>14.0</td>\n",
       "      <td>18.9</td>\n",
       "      <td>NaN</td>\n",
       "      <td>Ananke</td>\n",
       "      <td>0.174725</td>\n",
       "      <td>148.60</td>\n",
       "      <td>2.962843e+15</td>\n",
       "      <td>9.663597e+30</td>\n",
       "    </tr>\n",
       "    <tr>\n",
       "      <th>4</th>\n",
       "      <td>Aoede</td>\n",
       "      <td>761.000</td>\n",
       "      <td>24000000.0</td>\n",
       "      <td>2.0</td>\n",
       "      <td>22.5</td>\n",
       "      <td>NaN</td>\n",
       "      <td>Pasiphae</td>\n",
       "      <td>0.432000</td>\n",
       "      <td>158.00</td>\n",
       "      <td>4.323115e+15</td>\n",
       "      <td>1.382400e+31</td>\n",
       "    </tr>\n",
       "  </tbody>\n",
       "</table>\n",
       "</div>"
      ],
      "text/plain": [
       "       moon  period_days  distance_km  radius_km   mag       mass_kg  \\\n",
       "0  Adrastea        0.298     129000.0        8.2   NaN           NaN   \n",
       "1     Aitne      730.000   23231000.0        1.5  22.7           NaN   \n",
       "2  Amalthea        0.498     181400.0       83.5  14.1  2.080000e+18   \n",
       "3    Ananke      630.000   21300000.0       14.0  18.9           NaN   \n",
       "4     Aoede      761.000   24000000.0        2.0  22.5           NaN   \n",
       "\n",
       "      group       ecc  inclination_deg            T2            a3  \n",
       "0     Inner  0.001500             0.03  6.629183e+08  2.146689e+24  \n",
       "1     Carme  0.264000           165.00  3.978077e+15  1.253729e+31  \n",
       "2     Inner  0.003190             0.37  1.851340e+09  5.969141e+24  \n",
       "3    Ananke  0.174725           148.60  2.962843e+15  9.663597e+30  \n",
       "4  Pasiphae  0.432000           158.00  4.323115e+15  1.382400e+31  "
      ]
     },
     "execution_count": 24,
     "metadata": {},
     "output_type": "execute_result"
    }
   ],
   "source": [
    "moons_data.prepare_regression_data()\n",
    "moons_data.data.head()"
   ]
  },
  {
   "cell_type": "markdown",
   "id": "833fa386",
   "metadata": {},
   "source": [
    "### Linear Regression\n",
    "\n",
    "\n",
    "The \"train_regression_model\" method is designed to train a linear regression model on the Jupiter's moons dataset. This method follows a sequence of steps to ensure the model is accurately trained and evaluated:\n",
    "\n",
    "#### Defining Variables:\n",
    "\n",
    "- Independent variable (a^3) : Cubed semi-major axis distances of the moons, we use for predictor/feature in our regression model\n",
    "\n",
    "- Dependent variable (T^2) : Squared orbital periods of the moons, used for target variable, which the model will learn to predict\n",
    "\n",
    "\n",
    "#### Split the dataset\n",
    "\n",
    "- Dataset is split into 80% of training and 20% of test sets\n",
    "\n",
    "- The use of hyperparameters 'random_state = 42' is crucial for ensuring that this split is reproducible, which allows for the same sorting of data every time the code is run\n",
    "\n",
    "#### Training the model\n",
    "- Linear regression model is initiated and trained on training data\n",
    "\n",
    "- It learns the relationship between a^3 and T^2\n",
    "\n",
    "#### Model evaluation\n",
    "- The model's performance is evaluated using the R² score, which measures the proportion of variance in the dependent variable that is predictable from the independent variable.\n",
    "\n",
    "- Compute R² scores for both the training and testing datasets\n",
    "\n"
   ]
  },
  {
   "cell_type": "code",
   "execution_count": 18,
   "id": "e3a62f29",
   "metadata": {},
   "outputs": [
    {
     "name": "stdout",
     "output_type": "stream",
     "text": [
      "Training R² Score: 0.9992622607543469\n",
      "Testing R² Score: 0.9805535491912374\n"
     ]
    }
   ],
   "source": [
    "train_r2, test_r2 = moons_data.train_regression_model()\n",
    "print(f\"Training R² Score: {train_r2}\")\n",
    "print(f\"Testing R² Score: {test_r2}\")\n"
   ]
  },
  {
   "cell_type": "markdown",
   "id": "fa40150b",
   "metadata": {},
   "source": [
    "The high R² scores validate the use of linear regression in this context and confirms the strong linear relationship between these two variables"
   ]
  },
  {
   "cell_type": "markdown",
   "id": "59e6e0bc",
   "metadata": {},
   "source": [
    "### Estimating the Mass of Jupiter\n",
    "\n",
    "Now we move on to estimating the mass of Jupiter. 'The estimate_jupiter_mass' method in our Moons class is designed to estimate the mass of Jupiter using the previous linear regression model\n",
    "\n",
    "This estimation is based on Kepler's Third Law of planetary motion, which relates the orbital period of a moon to its distance from the central planet. \n",
    "\n",
    "\n",
    "#### Regression Coefficient\n",
    "\n",
    "We retrieve the coefficient of the linear regression model ('self.model.coef[0]'), which represents the slope of the line fitted by the regression linear model that corresponds to the relationship of the two variables.\n",
    "\n",
    "#### Calculate Jupiter's Mass\n",
    "\n",
    "We rearrange Kepler's equation to solve for M, the mass of Jupiter. The formula is : M = 4(pi)^2/G(coef). We insert the corresponding values, where G is the gravitational constant, and pi is the value from the NumPy library. We then obtain M, the mass of Jupiter in kg.\n",
    "\n",
    "#### Apply method on the data\n",
    "\n",
    "Finally we apply the method as below:\n",
    "     \n",
    "  "
   ]
  },
  {
   "cell_type": "code",
   "execution_count": 19,
   "id": "b1a0c912",
   "metadata": {},
   "outputs": [
    {
     "name": "stdout",
     "output_type": "stream",
     "text": [
      "Estimated Mass of Jupiter: 1.9023937964780354e+27 kg\n"
     ]
    }
   ],
   "source": [
    "estimated_mass = moons_data.estimate_jupiter_mass()\n",
    "print(f\"Estimated Mass of Jupiter: {estimated_mass} kg\")\n"
   ]
  },
  {
   "cell_type": "markdown",
   "id": "8c07459a",
   "metadata": {},
   "source": [
    " Our estimate of mass is 1.902 x 10^27 kg, which is almost close to the literature value of 1.899 x 10^27 kg."
   ]
  }
 ],
 "metadata": {
  "kernelspec": {
   "display_name": "Python 3 (ipykernel)",
   "language": "python",
   "name": "python3"
  },
  "language_info": {
   "codemirror_mode": {
    "name": "ipython",
    "version": 3
   },
   "file_extension": ".py",
   "mimetype": "text/x-python",
   "name": "python",
   "nbconvert_exporter": "python",
   "pygments_lexer": "ipython3",
   "version": "3.9.13"
  }
 },
 "nbformat": 4,
 "nbformat_minor": 5
}
